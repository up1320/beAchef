{
  "cells": [
    {
      "cell_type": "code",
      "execution_count": 27,
      "metadata": {
        "id": "FIFZnp7vm5-L"
      },
      "outputs": [],
      "source": [
        "import pandas as pd"
      ]
    },
    {
      "cell_type": "code",
      "source": [
        "from wordcloud import WordCloud, STOPWORDS\n",
        "stopwords = set(STOPWORDS)"
      ],
      "metadata": {
        "id": "Z-j0t1_Vn_iy"
      },
      "execution_count": 28,
      "outputs": []
    },
    {
      "cell_type": "code",
      "source": [
        "from collections import Counter"
      ],
      "metadata": {
        "id": "MceXPjJfoIEM"
      },
      "execution_count": 29,
      "outputs": []
    },
    {
      "cell_type": "code",
      "source": [
        "import nltk\n",
        "nltk.download('stopwords')\n",
        "from nltk.corpus import stopwords\n",
        "stop = set(stopwords.words('english'))\n",
        "stop.update(['.', ',', '\"', \"'\", '?', '!', ':', ';', '(', ')', '[', ']', '{', '}',''])\n",
        "from nltk.stem import WordNetLemmatizer"
      ],
      "metadata": {
        "colab": {
          "base_uri": "https://localhost:8080/"
        },
        "id": "bqAVo65_oNJh",
        "outputId": "751a7a28-ae00-49f8-dd85-52342963b4f1"
      },
      "execution_count": 30,
      "outputs": [
        {
          "output_type": "stream",
          "name": "stdout",
          "text": [
            "[nltk_data] Downloading package stopwords to /root/nltk_data...\n",
            "[nltk_data]   Package stopwords is already up-to-date!\n"
          ]
        }
      ]
    },
    {
      "cell_type": "markdown",
      "metadata": {
        "id": "KTxSyqS8m5-S"
      },
      "source": [
        "### What are the most famous cuisines in New Delhi?"
      ]
    },
    {
      "cell_type": "code",
      "source": [
        "food_data = pd.read_csv('/content/drive/MyDrive/food_choices_09.csv')\n",
        "food_data.info()"
      ],
      "metadata": {
        "colab": {
          "base_uri": "https://localhost:8080/"
        },
        "id": "N4DQF44TpAwa",
        "outputId": "7e345cd0-b51c-49b7-cec3-6cfd5e3479db"
      },
      "execution_count": 31,
      "outputs": [
        {
          "output_type": "stream",
          "name": "stdout",
          "text": [
            "<class 'pandas.core.frame.DataFrame'>\n",
            "RangeIndex: 699 entries, 0 to 698\n",
            "Data columns (total 2 columns):\n",
            " #   Column                Non-Null Count  Dtype \n",
            "---  ------                --------------  ----- \n",
            " 0   comfort_food          697 non-null    object\n",
            " 1   comfort_food_reasons  694 non-null    object\n",
            "dtypes: object(2)\n",
            "memory usage: 11.0+ KB\n"
          ]
        }
      ]
    },
    {
      "cell_type": "markdown",
      "metadata": {
        "id": "zrouyT8Wm5-U"
      },
      "source": [
        "### K-Means Clustering - Where are high-rated restaurants located?"
      ]
    },
    {
      "cell_type": "code",
      "source": [
        "food_data"
      ],
      "metadata": {
        "colab": {
          "base_uri": "https://localhost:8080/",
          "height": 419
        },
        "id": "v6EuIH3rpT5K",
        "outputId": "e6cb16a2-0c48-49f6-96de-d2deebc2758e"
      },
      "execution_count": 32,
      "outputs": [
        {
          "output_type": "execute_result",
          "data": {
            "text/html": [
              "\n",
              "  <div id=\"df-1320c774-5189-448e-9976-24ec5849b50e\">\n",
              "    <div class=\"colab-df-container\">\n",
              "      <div>\n",
              "<style scoped>\n",
              "    .dataframe tbody tr th:only-of-type {\n",
              "        vertical-align: middle;\n",
              "    }\n",
              "\n",
              "    .dataframe tbody tr th {\n",
              "        vertical-align: top;\n",
              "    }\n",
              "\n",
              "    .dataframe thead th {\n",
              "        text-align: right;\n",
              "    }\n",
              "</style>\n",
              "<table border=\"1\" class=\"dataframe\">\n",
              "  <thead>\n",
              "    <tr style=\"text-align: right;\">\n",
              "      <th></th>\n",
              "      <th>comfort_food</th>\n",
              "      <th>comfort_food_reasons</th>\n",
              "    </tr>\n",
              "  </thead>\n",
              "  <tbody>\n",
              "    <tr>\n",
              "      <th>0</th>\n",
              "      <td>chocolate, chips, ice cream</td>\n",
              "      <td>Stress, bored, anger</td>\n",
              "    </tr>\n",
              "    <tr>\n",
              "      <th>1</th>\n",
              "      <td>frozen yogurt, pizza, fast food</td>\n",
              "      <td>stress, sadness</td>\n",
              "    </tr>\n",
              "    <tr>\n",
              "      <th>2</th>\n",
              "      <td>Pizza, Mac and cheese, ice cream</td>\n",
              "      <td>Boredom</td>\n",
              "    </tr>\n",
              "    <tr>\n",
              "      <th>3</th>\n",
              "      <td>Ice cream, chocolate, chips</td>\n",
              "      <td>Stress, boredom, cravings</td>\n",
              "    </tr>\n",
              "    <tr>\n",
              "      <th>4</th>\n",
              "      <td>Candy, brownies and soda.</td>\n",
              "      <td>None, i don't eat comfort food. I just eat whe...</td>\n",
              "    </tr>\n",
              "    <tr>\n",
              "      <th>...</th>\n",
              "      <td>...</td>\n",
              "      <td>...</td>\n",
              "    </tr>\n",
              "    <tr>\n",
              "      <th>694</th>\n",
              "      <td>Sweets</td>\n",
              "      <td>Stress, boredom</td>\n",
              "    </tr>\n",
              "    <tr>\n",
              "      <th>695</th>\n",
              "      <td>Spicy cheese masala Maggi</td>\n",
              "      <td>happiness, satisfaction</td>\n",
              "    </tr>\n",
              "    <tr>\n",
              "      <th>696</th>\n",
              "      <td>Potato chips, ice cream, chocolate, cookies</td>\n",
              "      <td>happiness, they are some of my favorite foods</td>\n",
              "    </tr>\n",
              "    <tr>\n",
              "      <th>697</th>\n",
              "      <td>fried chicken. mashed potatoes, mac and cheese</td>\n",
              "      <td>Happiness, social event</td>\n",
              "    </tr>\n",
              "    <tr>\n",
              "      <th>698</th>\n",
              "      <td>chips, dip, fries, pizza</td>\n",
              "      <td>happiness, satisfaction</td>\n",
              "    </tr>\n",
              "  </tbody>\n",
              "</table>\n",
              "<p>699 rows × 2 columns</p>\n",
              "</div>\n",
              "      <button class=\"colab-df-convert\" onclick=\"convertToInteractive('df-1320c774-5189-448e-9976-24ec5849b50e')\"\n",
              "              title=\"Convert this dataframe to an interactive table.\"\n",
              "              style=\"display:none;\">\n",
              "        \n",
              "  <svg xmlns=\"http://www.w3.org/2000/svg\" height=\"24px\"viewBox=\"0 0 24 24\"\n",
              "       width=\"24px\">\n",
              "    <path d=\"M0 0h24v24H0V0z\" fill=\"none\"/>\n",
              "    <path d=\"M18.56 5.44l.94 2.06.94-2.06 2.06-.94-2.06-.94-.94-2.06-.94 2.06-2.06.94zm-11 1L8.5 8.5l.94-2.06 2.06-.94-2.06-.94L8.5 2.5l-.94 2.06-2.06.94zm10 10l.94 2.06.94-2.06 2.06-.94-2.06-.94-.94-2.06-.94 2.06-2.06.94z\"/><path d=\"M17.41 7.96l-1.37-1.37c-.4-.4-.92-.59-1.43-.59-.52 0-1.04.2-1.43.59L10.3 9.45l-7.72 7.72c-.78.78-.78 2.05 0 2.83L4 21.41c.39.39.9.59 1.41.59.51 0 1.02-.2 1.41-.59l7.78-7.78 2.81-2.81c.8-.78.8-2.07 0-2.86zM5.41 20L4 18.59l7.72-7.72 1.47 1.35L5.41 20z\"/>\n",
              "  </svg>\n",
              "      </button>\n",
              "      \n",
              "  <style>\n",
              "    .colab-df-container {\n",
              "      display:flex;\n",
              "      flex-wrap:wrap;\n",
              "      gap: 12px;\n",
              "    }\n",
              "\n",
              "    .colab-df-convert {\n",
              "      background-color: #E8F0FE;\n",
              "      border: none;\n",
              "      border-radius: 50%;\n",
              "      cursor: pointer;\n",
              "      display: none;\n",
              "      fill: #1967D2;\n",
              "      height: 32px;\n",
              "      padding: 0 0 0 0;\n",
              "      width: 32px;\n",
              "    }\n",
              "\n",
              "    .colab-df-convert:hover {\n",
              "      background-color: #E2EBFA;\n",
              "      box-shadow: 0px 1px 2px rgba(60, 64, 67, 0.3), 0px 1px 3px 1px rgba(60, 64, 67, 0.15);\n",
              "      fill: #174EA6;\n",
              "    }\n",
              "\n",
              "    [theme=dark] .colab-df-convert {\n",
              "      background-color: #3B4455;\n",
              "      fill: #D2E3FC;\n",
              "    }\n",
              "\n",
              "    [theme=dark] .colab-df-convert:hover {\n",
              "      background-color: #434B5C;\n",
              "      box-shadow: 0px 1px 3px 1px rgba(0, 0, 0, 0.15);\n",
              "      filter: drop-shadow(0px 1px 2px rgba(0, 0, 0, 0.3));\n",
              "      fill: #FFFFFF;\n",
              "    }\n",
              "  </style>\n",
              "\n",
              "      <script>\n",
              "        const buttonEl =\n",
              "          document.querySelector('#df-1320c774-5189-448e-9976-24ec5849b50e button.colab-df-convert');\n",
              "        buttonEl.style.display =\n",
              "          google.colab.kernel.accessAllowed ? 'block' : 'none';\n",
              "\n",
              "        async function convertToInteractive(key) {\n",
              "          const element = document.querySelector('#df-1320c774-5189-448e-9976-24ec5849b50e');\n",
              "          const dataTable =\n",
              "            await google.colab.kernel.invokeFunction('convertToInteractive',\n",
              "                                                     [key], {});\n",
              "          if (!dataTable) return;\n",
              "\n",
              "          const docLinkHtml = 'Like what you see? Visit the ' +\n",
              "            '<a target=\"_blank\" href=https://colab.research.google.com/notebooks/data_table.ipynb>data table notebook</a>'\n",
              "            + ' to learn more about interactive tables.';\n",
              "          element.innerHTML = '';\n",
              "          dataTable['output_type'] = 'display_data';\n",
              "          await google.colab.output.renderOutput(dataTable, element);\n",
              "          const docLink = document.createElement('div');\n",
              "          docLink.innerHTML = docLinkHtml;\n",
              "          element.appendChild(docLink);\n",
              "        }\n",
              "      </script>\n",
              "    </div>\n",
              "  </div>\n",
              "  "
            ],
            "text/plain": [
              "                                       comfort_food                               comfort_food_reasons\n",
              "0                       chocolate, chips, ice cream                               Stress, bored, anger\n",
              "1                   frozen yogurt, pizza, fast food                                    stress, sadness\n",
              "2                  Pizza, Mac and cheese, ice cream                                            Boredom\n",
              "3                      Ice cream, chocolate, chips                          Stress, boredom, cravings \n",
              "4                         Candy, brownies and soda.  None, i don't eat comfort food. I just eat whe...\n",
              "..                                              ...                                                ...\n",
              "694                                          Sweets                                    Stress, boredom\n",
              "695                       Spicy cheese masala Maggi                            happiness, satisfaction\n",
              "696     Potato chips, ice cream, chocolate, cookies      happiness, they are some of my favorite foods\n",
              "697  fried chicken. mashed potatoes, mac and cheese                            Happiness, social event\n",
              "698                        chips, dip, fries, pizza                            happiness, satisfaction\n",
              "\n",
              "[699 rows x 2 columns]"
            ]
          },
          "metadata": {},
          "execution_count": 32
        }
      ]
    },
    {
      "cell_type": "code",
      "execution_count": 33,
      "metadata": {
        "id": "ZPnDbhG6m5-c"
      },
      "outputs": [],
      "source": [
        "def search_comfort(mood):\n",
        "    lemmatizer = WordNetLemmatizer()\n",
        "    foodcount = {}\n",
        "    for i in range(124):\n",
        "        temp = [temps.strip().replace('.','').replace(',','').lower() for temps in str(food_data[\"comfort_food_reasons\"][i]).split(' ') if temps.strip() not in stop ]\n",
        "        if mood in temp:\n",
        "            foodtemp = [lemmatizer.lemmatize(temps.strip().replace('.','').replace(',','').lower()) for temps in str(food_data[\"comfort_food\"][i]).split(',') if temps.strip() not in stop ]\n",
        "            for a in foodtemp:\n",
        "                if a not in foodcount.keys():\n",
        "                    foodcount[a] = 1 \n",
        "                else:\n",
        "                    foodcount[a] += 1\n",
        "    sorted_food = []\n",
        "    sorted_food = sorted(foodcount, key=foodcount.get, reverse=True)\n",
        "    return sorted_food\n",
        "\n",
        "\n",
        "def find_my_comfort_food(mood):\n",
        "    topn = []\n",
        "    topn = search_comfort(mood) #function create dictionary only for particular mood\n",
        "    print(\"3 Popular Comfort Foods in %s are:\"%(mood))\n",
        "    print(topn[0])\n",
        "    print(topn[1])\n",
        "    print(topn[2])"
      ]
    },
    {
      "cell_type": "code",
      "source": [
        "nltk.download('wordnet')"
      ],
      "metadata": {
        "colab": {
          "base_uri": "https://localhost:8080/"
        },
        "id": "iIY5IZcaqtrU",
        "outputId": "c7ba37ff-47e4-4b8d-ec7b-9839b49d1a79"
      },
      "execution_count": 34,
      "outputs": [
        {
          "output_type": "stream",
          "name": "stdout",
          "text": [
            "[nltk_data] Downloading package wordnet to /root/nltk_data...\n",
            "[nltk_data]   Package wordnet is already up-to-date!\n"
          ]
        },
        {
          "output_type": "execute_result",
          "data": {
            "text/plain": [
              "True"
            ]
          },
          "metadata": {},
          "execution_count": 34
        }
      ]
    },
    {
      "cell_type": "code",
      "execution_count": 35,
      "metadata": {
        "colab": {
          "base_uri": "https://localhost:8080/"
        },
        "id": "YcoL8GkVm5-d",
        "outputId": "0d820081-588c-48ea-9b24-9057790e2693"
      },
      "outputs": [
        {
          "output_type": "stream",
          "name": "stdout",
          "text": [
            "3 Popular Comfort Foods in happy are:\n",
            "pizza\n",
            "ice cream\n",
            "chicken wings\n"
          ]
        }
      ],
      "source": [
        "find_my_comfort_food('happy')"
      ]
    },
    {
      "cell_type": "markdown",
      "metadata": {
        "id": "EHHzq_yzm5-f"
      },
      "source": [
        "## Main Part of our Project: Suggesting Restaurants based on User Moods\n",
        "##### Under Following Moods\n",
        "* stress\n",
        "* boredom\n",
        "* depression/sadness\n",
        "* hunger\n",
        "* laziness\n",
        "* cold weather\n",
        "* happiness \n",
        "* watching tv"
      ]
    },
    {
      "cell_type": "code",
      "execution_count": 35,
      "metadata": {
        "id": "gtr4Nmy-m5-h"
      },
      "outputs": [],
      "source": [
        ""
      ]
    }
  ],
  "metadata": {
    "kernelspec": {
      "display_name": "Python 3",
      "language": "python",
      "name": "python3"
    },
    "language_info": {
      "codemirror_mode": {
        "name": "ipython",
        "version": 3
      },
      "file_extension": ".py",
      "mimetype": "text/x-python",
      "name": "python",
      "nbconvert_exporter": "python",
      "pygments_lexer": "ipython3",
      "version": "3.6.5"
    },
    "colab": {
      "name": "Umang Food Recommender.ipynb",
      "provenance": []
    }
  },
  "nbformat": 4,
  "nbformat_minor": 0
}